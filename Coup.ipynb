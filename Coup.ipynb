{
 "cells": [
  {
   "cell_type": "markdown",
   "metadata": {},
   "source": [
    "# Building a simple Coup game\n",
    "\n",
    "Coup is a popular board game which has a fast pace. The description of the game can be found at this website: https://boardgamegeek.com/boardgame/131357/coup. Basically there are five different cards and each turn a player can make a single decision. I divided the coding procedure into 5 parts:\n",
    "\n",
    "\n",
    "1. Define player and actions\n",
    "2. Simulate the game for 3 players with random action choice from two cards and no lying\n",
    "3. Come up with a strategy for AI\n",
    "4. Upgrade to a multi-player set\n",
    "5. Define a lying game\n"
   ]
  },
  {
   "cell_type": "code",
   "execution_count": 1,
   "metadata": {},
   "outputs": [],
   "source": [
    "# Import packages\n",
    "import sys"
   ]
  },
  {
   "cell_type": "markdown",
   "metadata": {},
   "source": [
    "# Part one: Define player and actions\n",
    "\n",
    "I first create a game with only three players. Player will be a class distinguished by their names which has instance coin (initially 2) and hands. Hands should be a dictionary with a maximum length two. If the player has no cards he will die. I design a boolean to instance status. If False we will not execute it which means he dies.\n",
    "\n",
    "The actions will be methods a player can call. Some actions can trigger blocking and some can trigger question. We define these two reaction beforehand."
   ]
  },
  {
   "cell_type": "code",
   "execution_count": 7,
   "metadata": {},
   "outputs": [],
   "source": [
    "class Player(str):\n",
    "    \n",
    "    # variable is assigned by given a player name\n",
    "    def __init__(self,name:str):\n",
    "        self.name = name\n",
    "    \n",
    "    # the coins they have, initially two\n",
    "    coins = 2\n",
    "    \n",
    "    # Hands dictionary, initially empty. We will configure this when a game starts    \n",
    "    hands = {}\n",
    "    \n",
    "    # Dead or alive?\n",
    "    status = True\n",
    "    \n",
    "    def show_hand(self):\n",
    "        print('Your hands are:')\n",
    "        for hand in self.hands.values():\n",
    "            print(hand)\n",
    "                   \n",
    "    def block_foreign_aid(self):\n",
    "        i = 0\n",
    "        for player in players:\n",
    "            print('Player'+player.name+':')\n",
    "            block = input('Would you like to block?:')\n",
    "            if block == 'yes':\n",
    "                print('OK')\n",
    "                break\n",
    "                \n",
    "    def income"
   ]
  },
  {
   "cell_type": "code",
   "execution_count": 8,
   "metadata": {},
   "outputs": [
    {
     "name": "stdout",
     "output_type": "stream",
     "text": [
      "Your hands are:\n",
      "Duke\n",
      "Assasin\n",
      "PlayerShawn:\n",
      "Would you like to block?:no\n",
      "PlayerLinda:\n",
      "Would you like to block?:Yes\n",
      "OK\n"
     ]
    }
   ],
   "source": [
    "a = Player('Shawn')\n",
    "a.hands[0] = 'Duke'\n",
    "a.hands[1] = 'Assasin'\n",
    "a.show_hand()\n",
    "a.block_foreign_aid()"
   ]
  },
  {
   "cell_type": "markdown",
   "metadata": {},
   "source": [
    "# Part two: create a game\n",
    "\n",
    "We should have card pool since the player will exchange cards with the pool. \n",
    "\n",
    "We assume there are infinitely many coins in the bank.\n",
    "\n",
    "We also need a termination of the game. The game has only one survivor so we will end this game if the number of players is one."
   ]
  },
  {
   "cell_type": "code",
   "execution_count": 5,
   "metadata": {},
   "outputs": [],
   "source": [
    "a = Player('Shawn')\n",
    "b = Player('Linda')\n",
    "c = Player('CXK')\n",
    "\n",
    "players = [a,b,c]"
   ]
  },
  {
   "cell_type": "code",
   "execution_count": null,
   "metadata": {},
   "outputs": [],
   "source": []
  },
  {
   "cell_type": "code",
   "execution_count": null,
   "metadata": {},
   "outputs": [],
   "source": []
  },
  {
   "cell_type": "markdown",
   "metadata": {},
   "source": [
    "# Future improvements\n",
    "\n",
    "1. Adding GUI\n",
    "2. Use machine learning to improve AI performance"
   ]
  }
 ],
 "metadata": {
  "kernelspec": {
   "display_name": "Python 3",
   "language": "python",
   "name": "python3"
  },
  "language_info": {
   "codemirror_mode": {
    "name": "ipython",
    "version": 3
   },
   "file_extension": ".py",
   "mimetype": "text/x-python",
   "name": "python",
   "nbconvert_exporter": "python",
   "pygments_lexer": "ipython3",
   "version": "3.7.3"
  }
 },
 "nbformat": 4,
 "nbformat_minor": 2
}
