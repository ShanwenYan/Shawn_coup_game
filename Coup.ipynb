{
 "cells": [
  {
   "cell_type": "markdown",
   "metadata": {},
   "source": [
    "# Building a simple Coup game\n",
    "\n",
    "Coup is a popular board game which has a fast pace. The description of the game can be found at this website: https://boardgamegeek.com/boardgame/131357/coup. Basically there are five different cards and each turn a player can make a single decision. I divided the coding procedure into 7 parts:\n",
    "\n",
    "\n",
    "1. Define player\n",
    "2. Define actions\n",
    "3. Simulate the game for human players\n",
    "4. Develop AI\n",
    "5. Come up with a strategy for AI\n",
    "6. Upgrade to a multi-player set\n",
    "7. Define a lying game\n"
   ]
  },
  {
   "cell_type": "code",
   "execution_count": null,
   "metadata": {},
   "outputs": [],
   "source": [
    "# Import packages\n",
    "import sys                        # for executing the program\n",
    "from random import shuffle        # for deck shuffling"
   ]
  },
  {
   "cell_type": "markdown",
   "metadata": {},
   "source": [
    "# Part one: Define player\n",
    "\n",
    "I first create a game with only three players. Player will be a class distinguished by their names which has instance coin (initially 2) and hands. Hands should be a dictionary with a maximum length two. If the player has no cards he will die."
   ]
  },
  {
   "cell_type": "code",
   "execution_count": null,
   "metadata": {},
   "outputs": [],
   "source": [
    "class Player:\n",
    "\n",
    "    \n",
    "    # variable is assigned by given a player name, initialize 2 coins and an empty hand, player is also alive\n",
    "    def __init__(self,name):\n",
    "        self.name = name\n",
    "        self.coins = 2\n",
    "        self.hands = []\n",
    "        self.status = True\n",
    "        \n",
    "    # function to show players their current card\n",
    "    def show_hand(self):\n",
    "        print('Your hands are:\\n')\n",
    "        for hand in self.hands:\n",
    "            print(hand)\n",
    "        print('\\n')    \n",
    "    "
   ]
  },
  {
   "cell_type": "markdown",
   "metadata": {},
   "source": [
    "# Part two: Define actions"
   ]
  },
  {
   "cell_type": "markdown",
   "metadata": {},
   "source": [
    "Before define the actual game actions, we need to define some basic actions firsts. "
   ]
  },
  {
   "cell_type": "markdown",
   "metadata": {},
   "source": [
    "We first define a function to check whether the game stops, this function will be triggered everytime player show down their card."
   ]
  },
  {
   "cell_type": "code",
   "execution_count": null,
   "metadata": {},
   "outputs": [],
   "source": [
    "def endgame_check():\n",
    "    global players\n",
    "    if sum([player.status for player in players.values()]) == 1:\n",
    "        winner = [player.name for player in players.values() if player.status]\n",
    "        print('The winner of the game is ' + winner[0] + '. Congratulations!\\n')\n",
    "        sys.exit()\n",
    "    else: pass"
   ]
  },
  {
   "cell_type": "markdown",
   "metadata": {},
   "source": [
    "There should also be a function for a player choosing one card to loose(which also means you lose one life), after this action, we always check if the player is still alive and if the game ends."
   ]
  },
  {
   "cell_type": "code",
   "execution_count": null,
   "metadata": {},
   "outputs": [],
   "source": [
    "def discard(victim):\n",
    "    \n",
    "    global players\n",
    "    \n",
    "    if len(victim.hands) == 1:\n",
    "        card_discard = victim.hands[0]\n",
    "        victim.hands.remove(card_discard)\n",
    "        discarded_pool.append((victim.name,card_discard))\n",
    "    else:\n",
    "        card_discard = input('Player '+victim.name+', please select one card to show down: ')\n",
    "\n",
    "        while not card_discard in victim.hands:\n",
    "            card_discard = input('This is not the right place to lie, please re-enter: ')\n",
    "\n",
    "        victim.hands.remove(card_discard)\n",
    "        discarded_pool.append((victim.name,card_discard))\n",
    "    \n",
    "    if victim.hands == []:\n",
    "        victim.status = False\n",
    "        print('Player '+victim.name+' has been eliminated. Good luck next time!\\n')\n",
    "        del existing_players[victim.name]\n",
    "        \n",
    "    endgame_check()\n",
    "            "
   ]
  },
  {
   "cell_type": "markdown",
   "metadata": {},
   "source": [
    "Define a function to exchange hand with pool, note that you might get back the same card. After this the player will check his hands."
   ]
  },
  {
   "cell_type": "code",
   "execution_count": null,
   "metadata": {},
   "outputs": [],
   "source": [
    "def exchange(player,card):\n",
    "    player.hands.remove(card)\n",
    "    pool.append(card)\n",
    "    shuffle(pool)\n",
    "    new_card = pool.pop()\n",
    "    player.hands.append(new_card)\n",
    "    shuffle(pool)\n",
    "    input(player.name+', Press any key to see your hand\\n')\n",
    "    player.show_hand()"
   ]
  },
  {
   "cell_type": "markdown",
   "metadata": {},
   "source": [
    "Since for all actions, other players will be asked whether to qustion or not. So we create question function which\n",
    "will only be called with action methods. Players will be asked in turn whether they want to question. If nobody questions the function does nothing. If somebody questions the funtion will judge whether this quesiton is successful or not. I call the input of this function 'actioner', while who question this 'questioner'."
   ]
  },
  {
   "cell_type": "markdown",
   "metadata": {},
   "source": [
    "When questioning or blocking, we need an iterator which takes the seccond next player and loop till the player before him. So we create a function to generate the iterator."
   ]
  },
  {
   "cell_type": "code",
   "execution_count": null,
   "metadata": {},
   "outputs": [],
   "source": [
    "def calling(actioner):\n",
    "    global existing_players\n",
    "    players_name = [name for name in existing_players.keys()]*2\n",
    "    initial = players_name.index(actioner.name)+1\n",
    "    iterator = []\n",
    "    for i in range(initial,initial+len(existing_players)-1):\n",
    "        iterator.append(existing_players[players_name[i]])\n",
    "    return iterator"
   ]
  },
  {
   "cell_type": "code",
   "execution_count": null,
   "metadata": {},
   "outputs": [],
   "source": [
    "def question(actioner,card):\n",
    "    iterator = calling(actioner)\n",
    "    for questioner in iterator:\n",
    "        respond = input('Player '+questioner.name+', do you what to question? [yes/no] ')\n",
    "        print('\\n')\n",
    "        if respond == 'yes':\n",
    "            if card in player.hands:\n",
    "                print('Question failed!\\n')\n",
    "                discard(questioner)\n",
    "                exchange(actioner,card)\n",
    "                continue_action = True\n",
    "                return continue_action\n",
    "            else:\n",
    "                print('Question success!\\n')\n",
    "                discard(actioner)\n",
    "                continue_action = False\n",
    "                return continue_action\n",
    "    continue_action = True\n",
    "    return continue_action"
   ]
  },
  {
   "cell_type": "markdown",
   "metadata": {},
   "source": [
    "We put all possible actions inside a function called action, the input will be the player and name of the action, then different effects will happen according to what the player inputs. To make things simple, we first create an action list for the future check."
   ]
  },
  {
   "cell_type": "code",
   "execution_count": null,
   "metadata": {},
   "outputs": [],
   "source": [
    "action_list = ['income','foreign aid','coup','duke','assassin','duke','ambassador','captain']"
   ]
  },
  {
   "cell_type": "code",
   "execution_count": null,
   "metadata": {},
   "outputs": [],
   "source": [
    "def take_action(player,action):\n",
    "    \n",
    "    \n",
    "    \n",
    "    if action == 'income':\n",
    "        player.coins += 1\n",
    "    \n",
    "    \n",
    "    \n",
    "    elif action == 'foreign aid':\n",
    "        iterator = calling(player)\n",
    "        for blocker in iterator:\n",
    "            respond = input('Player '+blocker.name+', do you what to block? [yes/no] ')\n",
    "            if respond == 'yes':\n",
    "                continue_action = question(blocker,'duke')\n",
    "                if continue_action:\n",
    "                    return\n",
    "                else: \n",
    "                    print('block failed!\\n')\n",
    "                    player.coins += 2\n",
    "                    return\n",
    "        player.coins += 2\n",
    "        return\n",
    "      \n",
    "        \n",
    "        \n",
    "    elif action == 'coup':\n",
    "        victim = input('please select a player to coup: ')        \n",
    "        while not victim in existing_players:\n",
    "            victim = input('Player doesn\\'t exit or has been eliminated, please re-enter: ')\n",
    "            if victim == 'player.name':\n",
    "                victim = input('You can\\'t kill yourself, please re-enter: ')\n",
    "                while (not victim in existing_players) or  victim == 'player.name':\n",
    "                    victim = input('Player doesn\\'t exit, please re-enter: ')\n",
    "        discard(players[victim])        \n",
    "        player.coins -= 7\n",
    "        \n",
    "        \n",
    "        \n",
    "    elif action == 'duke':\n",
    "        continue_action = question(player,'duke')\n",
    "        if continue_action:\n",
    "            player.coins += 3\n",
    "        \n",
    "        return\n",
    "        \n",
    "        \n",
    "        \n",
    "    elif action == 'assassin':\n",
    "        player.coins -= 3\n",
    "        victim = input('Who do you want to assassinate: ')\n",
    "        while not victim in existing_players:\n",
    "            victim = input('Player doesn\\'t exit, please re-enter: ')\n",
    "        if victim == 'player.name':\n",
    "            victim = input('You can\\'t kill yourself, please re-enter: ')\n",
    "            while (not victim in existing_players) or  victim == 'player.name':\n",
    "                victim = input('Player doesn\\'t exit, please re-enter: ')\n",
    "        continue_action = question(player,'assassin')\n",
    "        if continue_action:\n",
    "            try:\n",
    "                victim_player = existing_players[victim] \n",
    "                defend = input('Player '+victim+', do you want to play contessa? [yes/no] ')\n",
    "                print('\\n')\n",
    "                if defend == 'yes':\n",
    "                    continue_action_2 = question(players[victim] ,'contessa')\n",
    "                    if continue_action_2:\n",
    "                        print('Successfully defended!\\n')\n",
    "                        return\n",
    "                print('Attack succeed!\\n')\n",
    "                discard(players[victim])\n",
    "                return\n",
    "            except KeyError:\n",
    "                print('Target already down.\\n')\n",
    "                return\n",
    "        print('Attack failed!\\n')\n",
    "        return\n",
    "    \n",
    "    \n",
    "    \n",
    "    elif action == 'captain':\n",
    "        target = input('Who do you want to steal: ')\n",
    "        while not target in existing_players:\n",
    "            target = input('Player doesn\\'t exit, please re-enter: ')\n",
    "        continue_action = question(player,'captain')\n",
    "        if continue_action:\n",
    "            defend = input('Player '+target.name+', do you want to block stealing? [yes/no] ')\n",
    "            print('\\n')\n",
    "            if defend == 'yes':\n",
    "                iterator = calling(target)\n",
    "                for questioner in iterator:\n",
    "                    respond = input('Player '+questioner.name+', do you what to question? [yes/no] ')\n",
    "                    print('\\n')\n",
    "                    if respond == 'yes':\n",
    "                        if 'captain' in player.hands:\n",
    "                            print('Question failed!\\n')\n",
    "                            discard(questioner)\n",
    "                            exchange(target,'captain')\n",
    "                            print('block succeed!\\n')\n",
    "                            return\n",
    "                        elif 'ambassador' in player.hands:\n",
    "                            print('Question failed!\\n')\n",
    "                            discard(questioner)\n",
    "                            exchange(target,'ambassador')\n",
    "                            print('block succeed!\\n')\n",
    "                            return\n",
    "                        else:\n",
    "                            print('Question succeed, block failed!\\n')\n",
    "                            discard(target)\n",
    "                            if target.coins < 2:\n",
    "                                target.coins -= target.coins\n",
    "                                player.coins += target.coins\n",
    "                            else:\n",
    "                                target.coins -= 2\n",
    "                                player.coins += 2\n",
    "                            return\n",
    "                return    \n",
    "            target.coins -= 2\n",
    "            player.coins += 2\n",
    "            return\n",
    "        return\n",
    "    \n",
    "    \n",
    "    \n",
    "    \n",
    "    else:\n",
    "        continue_action = question(player,'ambassador')\n",
    "        if continue_action:\n",
    "            for _ in range(2):\n",
    "                new_card = pool.pop()\n",
    "                player.hands.append(new_card)        \n",
    "            input(player.name+', Press any key to see your hand\\n')\n",
    "            player.show_hand()\n",
    "            \n",
    "            put_back = input('Please select the first card you want to put back: ')\n",
    "            print('\\n')\n",
    "            while not put_back in player.hands:\n",
    "                put_back = input('Please put back a card you own: ') \n",
    "                print('\\n')\n",
    "            player.hands.remove(put_back)\n",
    "            pool.append(put_back)\n",
    "            \n",
    "            put_back = input('Please select the second card you want to put back: ')\n",
    "            print('\\n')\n",
    "            while not put_back in player.hands:\n",
    "                put_back = input('Please put back a card you own: ') \n",
    "                print('\\n')\n",
    "            player.hands.remove(put_back)\n",
    "            pool.append(put_back)\n",
    "            \n",
    "            shuffle(pool)\n",
    "            return\n",
    "        return\n",
    "                \n",
    "            \n",
    "            "
   ]
  },
  {
   "cell_type": "markdown",
   "metadata": {},
   "source": [
    "# Part three: create a game\n",
    "\n",
    "We should have card pool since the player will exchange cards with the pool. \n",
    "\n",
    "We assume there are infinitely many coins in the bank.\n",
    "\n",
    "We also need a termination of the game. The game has only one survivor so we will end this game if the number of players is one."
   ]
  },
  {
   "cell_type": "markdown",
   "metadata": {},
   "source": [
    "# Configuration"
   ]
  },
  {
   "cell_type": "code",
   "execution_count": null,
   "metadata": {},
   "outputs": [],
   "source": [
    "# Players login\n",
    "number_of_players = input('Please enter the number of total players: ')\n",
    "number_of_players = int(number_of_players)\n",
    "\n",
    "if number_of_players <= 2:\n",
    "    print('At least three players required for this game\\n')\n",
    "    sys.exit()\n",
    "\n",
    "\n",
    "players = {}\n",
    "\n",
    "for i in range(number_of_players):\n",
    "    name = input('Player {}, please enter your player name: '.format(i+1))\n",
    "    players[name] = Player(name)\n",
    "\n",
    "print('\\n')\n",
    "\n",
    "\n",
    "# Initialize reference dictionary existing_players\n",
    "\n",
    "existing_players = players.copy()\n",
    "\n",
    "\n",
    "# Create the card pool\n",
    "\n",
    "pool = ['assassin','duke','contessa','ambassador','captain']*3\n",
    "\n",
    "shuffle(pool)\n",
    "\n",
    "# Card dealing\n",
    "\n",
    "for player in players.values():\n",
    "    for _ in range(2):\n",
    "        new_card = pool.pop()\n",
    "        player.hands.append(new_card)        \n",
    "    \n",
    "    input(player.name+', press any key to see your hand.\\n')\n",
    "    player.show_hand()\n",
    "\n",
    "# Create discarded cards, this will be a list of (player name, card name) tupple\n",
    "\n",
    "discarded_pool = []\n"
   ]
  },
  {
   "cell_type": "markdown",
   "metadata": {},
   "source": [
    "# Game phase\n",
    "\n",
    "1. check whether player is forced to coup (coins >= 10)\n",
    "2. select an action\n",
    "3. check whether game stops (len(players) == 1)"
   ]
  },
  {
   "cell_type": "code",
   "execution_count": null,
   "metadata": {},
   "outputs": [],
   "source": [
    "# Although the game will terminate itself, we need to add a loop to keep it working. For safety consideration we use the termination check.\n",
    "# This really shouldn't happen\n",
    "while not len(existing_players) == 1:\n",
    "    for player in players.values():\n",
    "        if not player.status:\n",
    "            continue\n",
    "        else:\n",
    "            print('Player '+player.name+',it\\'s your turn.\\n')\n",
    "\n",
    "            # show the discarded card pool for reference, this is probably the best time to show it.\n",
    "            print('Open information now:\\n')        \n",
    "            print('Open cards: {}\\n'.format(discarded_pool))\n",
    "            print('Coins of each player:\\n')\n",
    "            for gamers in existing_players.values():\n",
    "                print('Player {} has {} coins.\\n'.format(gamers.name,gamers.coins))\n",
    "\n",
    "\n",
    "            # force coup check\n",
    "            if player.coins >= 10:\n",
    "                victim = input('You are forced to coup, please select a player to coup: ')\n",
    "                take_action(player,'coup')\n",
    "\n",
    "            else: \n",
    "                action = input('Please select an action: ')\n",
    "                print('\\n')\n",
    "\n",
    "                while not action in action_list:\n",
    "                    action = input('Please re-enter a valid action: ')          \n",
    "                # A player can only chooese assassin if he or she has 3+ coins\n",
    "                if action == 'assassin' and player.coins < 3:\n",
    "                    action = input('You don\\'t have enough coins, please re-enter: ')\n",
    "                    while (not action in action_list) or action == 'assassin':\n",
    "                        action = input('Please re-enter a valid action: ')\n",
    "                if action == 'coup' and player.coins < 7:\n",
    "                    action = input('You don\\'t have enough coins, please re-enter: ')\n",
    "                    while (not action in action_list) or action == 'coup':\n",
    "                        action = input('Please re-enter a valid action: ')\n",
    "                take_action(player,action)\n",
    "            \n",
    "        print('-'*100)"
   ]
  },
  {
   "cell_type": "markdown",
   "metadata": {},
   "source": [
    "# Future improvements\n",
    "\n",
    "1. The iterator definitely needs a big fix, first it needs to be more consise. Also the iterator should start at the correct position for blocker and contessa \n",
    "2. Adding GUI (change input string to button for instance)\n",
    "3. Use machine learning to improve AI performance\n",
    "4. Break down the code to different files that only the main file will be executed\n",
    "5. Change to a design which allows new action/card to be added in easily\n",
    "6. I forgot dictionaries can't change size as a iterator, need another way to intepret the loop\n",
    "7. Hide hands information after a player checks it."
   ]
  }
 ],
 "metadata": {
  "kernelspec": {
   "display_name": "Python 3",
   "language": "python",
   "name": "python3"
  },
  "language_info": {
   "codemirror_mode": {
    "name": "ipython",
    "version": 3
   },
   "file_extension": ".py",
   "mimetype": "text/x-python",
   "name": "python",
   "nbconvert_exporter": "python",
   "pygments_lexer": "ipython3",
   "version": "3.7.3"
  }
 },
 "nbformat": 4,
 "nbformat_minor": 2
}
